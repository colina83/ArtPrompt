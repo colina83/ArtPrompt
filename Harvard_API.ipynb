{
 "cells": [
  {
   "cell_type": "code",
   "execution_count": null,
   "id": "19290f56",
   "metadata": {},
   "outputs": [],
   "source": [
    "import pandas as pd\n",
    "import numpy as np\n",
    "import requests\n",
    "import os\n",
    "import json  \n"
   ]
  },
  {
   "cell_type": "code",
   "execution_count": 12,
   "id": "2deea0e6",
   "metadata": {},
   "outputs": [],
   "source": [
    "from dotenv import load_dotenv, find_dotenv\n",
    "_ = load_dotenv(find_dotenv()) # read local .env file\n"
   ]
  },
  {
   "cell_type": "markdown",
   "id": "8c7d06ca",
   "metadata": {},
   "source": [
    "# Project Description"
   ]
  },
  {
   "cell_type": "markdown",
   "id": "fed4126a",
   "metadata": {},
   "source": [
    "### 1.- Defining Variables"
   ]
  },
  {
   "cell_type": "markdown",
   "id": "144e0384",
   "metadata": {},
   "source": [
    "The cell below contains code that searches for an artist using different resources of the Harvard Art Museum API - "
   ]
  },
  {
   "cell_type": "code",
   "execution_count": 3,
   "id": "f1fd8989",
   "metadata": {},
   "outputs": [],
   "source": [
    "key  = os.environ['HARVARD_API_KEY']\n",
    "artist = \"Cezanne\"\n",
    "\n"
   ]
  },
  {
   "cell_type": "markdown",
   "id": "c219f5d1",
   "metadata": {},
   "source": [
    "The cell below will use the title to find an object with the artist name"
   ]
  },
  {
   "cell_type": "code",
   "execution_count": 4,
   "id": "f4c4004d",
   "metadata": {},
   "outputs": [],
   "source": [
    "r = requests.get(f'https://api.harvardartmuseums.org/object?person={artist}&apikey={key}')\n",
    "data = r.json()"
   ]
  },
  {
   "cell_type": "code",
   "execution_count": 5,
   "id": "7d9a6cd5",
   "metadata": {},
   "outputs": [],
   "source": [
    "# Extract the info and records\n",
    "info = data['info']\n",
    "records = data['records']"
   ]
  },
  {
   "cell_type": "code",
   "execution_count": 15,
   "metadata": {},
   "outputs": [
    {
     "name": "stdout",
     "output_type": "stream",
     "text": [
      "{'copyright': None, 'contextualtextcount': 0, 'creditline': 'Harvard Art Museums/Fogg Museum, Bequest of Mary Gershinowitz', 'accesslevel': 1, 'dateoflastpageview': '2023-11-13', 'classificationid': 21, 'division': 'European and American Art', 'markscount': 11, 'publicationcount': 2, 'totaluniquepageviews': 474, 'contact': 'am_europeanamerican@harvard.edu', 'colorcount': 3, 'rank': 124223, 'id': 97993, 'state': None, 'verificationleveldescription': 'Best. Object is extensively researched, well described and information is vetted', 'period': None, 'images': [{'date': '2018-08-20', 'copyright': 'President and Fellows of Harvard College', 'imageid': 491094, 'idsid': 457568629, 'format': 'image/jpeg', 'description': None, 'technique': 'Make:Hasselblad;Model:Hasselblad H5D-50c MS;Orientation:1;Software:Adobe Photoshop CS6 (Macintosh);', 'renditionnumber': '768158', 'displayorder': 1, 'baseimageurl': 'https://nrs.harvard.edu/urn-3:HUAM:768158', 'alttext': None, 'width': 2550, 'publiccaption': 'recto', 'iiifbaseuri': 'https://ids.lib.harvard.edu/ids/iiif/457568629', 'height': 1578}, {'date': '2018-08-20', 'copyright': 'President and Fellows of Harvard College', 'imageid': 491095, 'idsid': 457568633, 'format': 'image/jpeg', 'description': None, 'technique': 'Make:Hasselblad;Model:Hasselblad H5D-50c MS;Orientation:1;Software:Adobe Photoshop CS6 (Macintosh);', 'renditionnumber': '768159', 'displayorder': 2, 'baseimageurl': 'https://nrs.harvard.edu/urn-3:HUAM:768159', 'alttext': None, 'width': 2550, 'publiccaption': 'verso', 'iiifbaseuri': 'https://ids.lib.harvard.edu/ids/iiif/457568633', 'height': 1568}, {'date': '2012-02-02', 'copyright': None, 'imageid': 409234, 'idsid': 42674737, 'format': 'image/jpeg', 'description': None, 'technique': None, 'renditionnumber': 'DDC113733', 'displayorder': 3, 'baseimageurl': 'https://nrs.harvard.edu/urn-3:huam:DDC113733_dynmc', 'alttext': None, 'width': 1024, 'publiccaption': 'recto', 'iiifbaseuri': 'https://ids.lib.harvard.edu/ids/iiif/42674737', 'height': 623}], 'worktypes': [{'worktypeid': '124', 'worktype': 'drawing'}], 'imagecount': 3, 'totalpageviews': 558, 'accessionyear': 2003, 'standardreferencenumber': None, 'signed': None, 'classification': 'Drawings', 'relatedcount': 0, 'verificationlevel': 4, 'primaryimageurl': 'https://nrs.harvard.edu/urn-3:HUAM:768158', 'titlescount': 2, 'peoplecount': 1, 'style': None, 'lastupdate': '2023-11-26T05:09:46-0500', 'commentary': None, 'periodid': None, 'technique': None, 'edition': None, 'description': 'Sketchbook page', 'medium': 'Watercolor over graphite on cream wove paper', 'lendingpermissionlevel': 0, 'title': 'Tree Trunks', 'accessionmethod': 'Bequest', 'colors': [{'color': '#c8c896', 'spectrum': '#a9cf38', 'hue': 'Green', 'percent': 0.9886231884057971, 'css3': '#d2b48c'}, {'color': '#7d7d64', 'spectrum': '#6cbd45', 'hue': 'Yellow', 'percent': 0.010579710144927536, 'css3': '#808080'}, {'color': '#64644b', 'spectrum': '#59ba4a', 'hue': 'Green', 'percent': 0.0007971014492753623, 'css3': '#696969'}], 'provenance': 'Paul Cézanne fils, Paris.\\r\\nPaul Guillaume[?], Paris.\\r\\nKenneth Clark, London.\\r\\nH. J. Bomford, London.\\r\\nMayor Gallery, London, sold to Harold Gershinowitz. per Gershinowitz letter to Mary Lee Bennett, Aug. 17, 1966\\r\\nHarold and Mary Gershinowitz, New York, NY, purchased from Mayor Gallery, London, bequest to HUAM, 2002.\\r\\n', 'groupcount': 0, 'dated': 'c. 1885', 'department': 'Department of Drawings', 'dateend': 1890, 'people': [{'role': 'Artist', 'birthplace': 'Aix-en-Provence', 'gender': 'male', 'displaydate': '1839 - 1906', 'prefix': None, 'culture': 'French', 'displayname': 'Paul Cézanne', 'alphasort': 'Cézanne, Paul', 'name': 'Paul Cézanne', 'personid': 31681, 'deathplace': 'Aix-en-Provence', 'displayorder': 1}], 'url': 'https://www.harvardartmuseums.org/collections/object/97993', 'dateoffirstpageview': '2009-08-06', 'century': '19th century', 'objectnumber': '2003.40.3', 'labeltext': None, 'datebegin': 1880, 'culture': 'French', 'exhibitioncount': 0, 'imagepermissionlevel': 0, 'mediacount': 0, 'objectid': 97993, 'techniqueid': None, 'dimensions': '12.6 x 20.7 cm (4 15/16 x 8 1/8 in.)', 'seeAlso': [{'id': 'https://iiif.harvardartmuseums.org/manifests/object/97993', 'type': 'IIIF Manifest', 'format': 'application/json', 'profile': 'http://iiif.io/api/presentation/2/context.json'}]}\n",
      "{'copyright': None, 'contextualtextcount': 0, 'creditline': 'Harvard Art Museums/Fogg Museum, Bequest of Mary Gershinowitz', 'accesslevel': 1, 'dateoflastpageview': '2023-11-04', 'classificationid': 21, 'division': 'European and American Art', 'markscount': 1, 'publicationcount': 4, 'totaluniquepageviews': 336, 'contact': 'am_europeanamerican@harvard.edu', 'colorcount': 8, 'rank': 124224, 'id': 98848, 'state': None, 'verificationleveldescription': 'Best. Object is extensively researched, well described and information is vetted', 'period': None, 'images': [{'date': '2018-08-20', 'copyright': 'President and Fellows of Harvard College', 'imageid': 491092, 'idsid': 457568625, 'format': 'image/jpeg', 'description': None, 'technique': 'Make:Hasselblad;Model:Hasselblad H5D-50c MS;Orientation:1;Software:Adobe Photoshop CS6 (Macintosh);', 'renditionnumber': '768156', 'displayorder': 1, 'baseimageurl': 'https://nrs.harvard.edu/urn-3:HUAM:768156', 'alttext': None, 'width': 1706, 'publiccaption': 'recto', 'iiifbaseuri': 'https://ids.lib.harvard.edu/ids/iiif/457568625', 'height': 2550}, {'date': '2018-08-20', 'copyright': 'President and Fellows of Harvard College', 'imageid': 491093, 'idsid': 457568621, 'format': 'image/jpeg', 'description': None, 'technique': 'Make:Hasselblad;Model:Hasselblad H5D-50c MS;Orientation:1;Software:Adobe Photoshop CS6 (Macintosh);', 'renditionnumber': '768157', 'displayorder': 2, 'baseimageurl': 'https://nrs.harvard.edu/urn-3:HUAM:768157', 'alttext': None, 'width': 1711, 'publiccaption': 'verso', 'iiifbaseuri': 'https://ids.lib.harvard.edu/ids/iiif/457568621', 'height': 2550}, {'date': '2008-11-06', 'copyright': 'President and Fellows of Harvard College', 'imageid': 323944, 'idsid': 20487686, 'format': 'image/jpeg', 'description': None, 'technique': None, 'renditionnumber': 'INV203267', 'displayorder': 3, 'baseimageurl': 'https://nrs.harvard.edu/urn-3:HUAM:INV203267_dynmc', 'alttext': None, 'width': 682, 'publiccaption': None, 'iiifbaseuri': 'https://ids.lib.harvard.edu/ids/iiif/20487686', 'height': 1024}], 'worktypes': [{'worktypeid': '124', 'worktype': 'drawing'}], 'imagecount': 3, 'totalpageviews': 418, 'accessionyear': 2003, 'standardreferencenumber': None, 'signed': None, 'classification': 'Drawings', 'relatedcount': 0, 'verificationlevel': 4, 'primaryimageurl': 'https://nrs.harvard.edu/urn-3:HUAM:768156', 'titlescount': 2, 'peoplecount': 1, 'style': None, 'lastupdate': '2023-11-26T05:09:46-0500', 'commentary': None, 'periodid': None, 'technique': None, 'edition': None, 'description': None, 'medium': 'Watercolor and graphite on off-white wove paper', 'lendingpermissionlevel': 0, 'title': 'Forest Interior', 'accessionmethod': 'Bequest', 'colors': [{'color': '#c8c8af', 'spectrum': '#b55592', 'hue': 'Green', 'percent': 0.8228, 'css3': '#c0c0c0'}, {'color': '#af967d', 'spectrum': '#c25687', 'hue': 'Brown', 'percent': 0.09846666666666666, 'css3': '#bc8f8f'}, {'color': '#969696', 'spectrum': '#8761aa', 'hue': 'Grey', 'percent': 0.044, 'css3': '#a9a9a9'}, {'color': '#967d64', 'spectrum': '#b65590', 'hue': 'Brown', 'percent': 0.021666666666666667, 'css3': '#808080'}, {'color': '#af7d4b', 'spectrum': '#e9715f', 'hue': 'Yellow', 'percent': 0.011333333333333334, 'css3': '#cd853f'}, {'color': '#64964b', 'spectrum': '#59ba4a', 'hue': 'Green', 'percent': 0.0011333333333333334, 'css3': '#6b8e23'}, {'color': '#644b4b', 'spectrum': '#8362aa', 'hue': 'Brown', 'percent': 0.0005333333333333334, 'css3': '#696969'}, {'color': '#4b3232', 'spectrum': '#4ab851', 'hue': 'Red', 'percent': 6.666666666666667e-05, 'css3': '#2f4f4f'}], 'provenance': 'Paul Cézanne; his son, Paul Cézanne. [Georges Bernheim, Paris]. [Jos Hessel, Paris]. [Walther Halvorsen, Oslo]. Justin K. Thannhauser, New York (by 1936), sale; [Parke-Bernet, New York, April 12, 1945, no. 80, repr.]. [Kleeman Gallery, New York.] [Parke-Bernet, New York, November 7, 1946, no. 43, repr.]. Frederick W. Schumacher, Columbus, Ohio (until 1957). [Knoedler Galleries, New York]. Harold and Mary Gershinowitz, New York, bequest; to Harvard University Art Museums, 2003.\\r\\n\\r\\nProvenance adapted from Rewald, 1983.\\r\\n', 'groupcount': 0, 'dated': 'c. 1890', 'department': 'Department of Drawings', 'dateend': 1895, 'people': [{'role': 'Artist', 'birthplace': 'Aix-en-Provence', 'gender': 'male', 'displaydate': '1839 - 1906', 'prefix': None, 'culture': 'French', 'displayname': 'Paul Cézanne', 'alphasort': 'Cézanne, Paul', 'name': 'Paul Cézanne', 'personid': 31681, 'deathplace': 'Aix-en-Provence', 'displayorder': 1}], 'url': 'https://www.harvardartmuseums.org/collections/object/98848', 'dateoffirstpageview': '2009-05-23', 'century': '19th century', 'objectnumber': '2003.40.4', 'labeltext': None, 'datebegin': 1885, 'culture': 'French', 'exhibitioncount': 0, 'imagepermissionlevel': 0, 'mediacount': 0, 'objectid': 98848, 'techniqueid': None, 'dimensions': '47.9 x 31.2 cm (18 7/8 x 12 5/16 in.)', 'seeAlso': [{'id': 'https://iiif.harvardartmuseums.org/manifests/object/98848', 'type': 'IIIF Manifest', 'format': 'application/json', 'profile': 'http://iiif.io/api/presentation/2/context.json'}]}\n",
      "{'copyright': None, 'contextualtextcount': 0, 'creditline': 'Harvard Art Museums/Fogg Museum, Bequest of Mary Gershinowitz', 'accesslevel': 1, 'dateoflastpageview': '2023-11-24', 'classificationid': 21, 'division': 'European and American Art', 'markscount': 4, 'publicationcount': 3, 'totaluniquepageviews': 287, 'contact': 'am_europeanamerican@harvard.edu', 'colorcount': 6, 'rank': 124222, 'id': 98962, 'state': None, 'verificationleveldescription': 'Best. Object is extensively researched, well described and information is vetted', 'period': None, 'images': [{'date': '2018-08-20', 'copyright': 'President and Fellows of Harvard College', 'imageid': 491080, 'idsid': 457564885, 'format': 'image/jpeg', 'description': None, 'technique': 'Make:Hasselblad;Model:Hasselblad H5D-50c MS;Orientation:1;Software:Adobe Photoshop CS6 (Macintosh);', 'renditionnumber': '768144', 'displayorder': 1, 'baseimageurl': 'https://nrs.harvard.edu/urn-3:HUAM:768144', 'alttext': None, 'width': 2550, 'publiccaption': 'recto', 'iiifbaseuri': 'https://ids.lib.harvard.edu/ids/iiif/457564885', 'height': 1910}, {'date': '2018-08-20', 'copyright': 'President and Fellows of Harvard College', 'imageid': 491081, 'idsid': 457564889, 'format': 'image/jpeg', 'description': None, 'technique': 'Make:Hasselblad;Model:Hasselblad H5D-50c MS;Orientation:1;Software:Adobe Photoshop CS6 (Macintosh);', 'renditionnumber': '768145', 'displayorder': 2, 'baseimageurl': 'https://nrs.harvard.edu/urn-3:HUAM:768145', 'alttext': None, 'width': 2550, 'publiccaption': 'verso', 'iiifbaseuri': 'https://ids.lib.harvard.edu/ids/iiif/457564889', 'height': 1956}, {'date': '2003-07-16', 'copyright': 'President and Fellows of Harvard College', 'imageid': 22335, 'idsid': 17817278, 'format': 'image/jpeg', 'description': None, 'technique': None, 'renditionnumber': '73691', 'displayorder': 3, 'baseimageurl': 'https://nrs.harvard.edu/urn-3:HUAM:73691_dynmc', 'alttext': None, 'width': 1024, 'publiccaption': 'recto', 'iiifbaseuri': 'https://ids.lib.harvard.edu/ids/iiif/17817278', 'height': 786}], 'worktypes': [{'worktypeid': '124', 'worktype': 'drawing'}], 'imagecount': 3, 'totalpageviews': 357, 'accessionyear': 2003, 'standardreferencenumber': None, 'signed': None, 'classification': 'Drawings', 'relatedcount': 0, 'verificationlevel': 4, 'primaryimageurl': 'https://nrs.harvard.edu/urn-3:HUAM:768144', 'titlescount': 2, 'peoplecount': 1, 'style': None, 'lastupdate': '2023-11-26T05:09:46-0500', 'commentary': None, 'periodid': None, 'technique': None, 'edition': None, 'description': None, 'medium': 'Watercolor over graphite and black chalk on off-white wove paper', 'lendingpermissionlevel': 0, 'title': 'House Among Trees', 'accessionmethod': 'Bequest', 'colors': [{'color': '#e1c896', 'spectrum': '#ed765a', 'hue': 'Yellow', 'percent': 0.5979166666666667, 'css3': '#deb887'}, {'color': '#c8af7d', 'spectrum': '#e9715f', 'hue': 'Brown', 'percent': 0.27029761904761906, 'css3': '#d2b48c'}, {'color': '#96967d', 'spectrum': '#8e5ea7', 'hue': 'Green', 'percent': 0.0650595238095238, 'css3': '#808080'}, {'color': '#e1e1c8', 'spectrum': '#e9715f', 'hue': 'Green', 'percent': 0.04, 'css3': '#dcdcdc'}, {'color': '#7d7d64', 'spectrum': '#6cbd45', 'hue': 'Yellow', 'percent': 0.022023809523809525, 'css3': '#808080'}, {'color': '#646464', 'spectrum': '#7866ad', 'hue': 'Grey', 'percent': 0.004702380952380953, 'css3': '#696969'}], 'provenance': '[Ambroise Vollard, Paris.] [Marcel Guiot, Paris.] [Werner Rusche, Cologne-Braunsfeld]. [Myrtil Frank, The Hague and New York.] [Wildenstein Galleries, New York.] Harold and Mary Gershinowitz, by 1966, New York, Bequest to HUAM, 2002.\\r\\n', 'groupcount': 0, 'dated': 'c. 1890', 'department': 'Department of Drawings', 'dateend': 1895, 'people': [{'role': 'Artist', 'birthplace': 'Aix-en-Provence', 'gender': 'male', 'displaydate': '1839 - 1906', 'prefix': None, 'culture': 'French', 'displayname': 'Paul Cézanne', 'alphasort': 'Cézanne, Paul', 'name': 'Paul Cézanne', 'personid': 31681, 'deathplace': 'Aix-en-Provence', 'displayorder': 1}], 'url': 'https://www.harvardartmuseums.org/collections/object/98962', 'dateoffirstpageview': '2009-05-23', 'century': '19th century', 'objectnumber': '2003.40.2', 'labeltext': None, 'datebegin': 1885, 'culture': 'French', 'exhibitioncount': 1, 'imagepermissionlevel': 0, 'mediacount': 0, 'objectid': 98962, 'techniqueid': None, 'dimensions': '24.5 x 31.9 cm (9 5/8 x 12 9/16 in.)', 'seeAlso': [{'id': 'https://iiif.harvardartmuseums.org/manifests/object/98962', 'type': 'IIIF Manifest', 'format': 'application/json', 'profile': 'http://iiif.io/api/presentation/2/context.json'}]}\n",
      "{'copyright': None, 'contextualtextcount': 0, 'creditline': 'Harvard Art Museums/Fogg Museum, Bequest of Mary Gershinowitz', 'accesslevel': 1, 'dateoflastpageview': '2023-09-05', 'classificationid': 21, 'division': 'European and American Art', 'markscount': 4, 'publicationcount': 5, 'totaluniquepageviews': 265, 'contact': 'am_europeanamerican@harvard.edu', 'colorcount': 5, 'rank': 124225, 'id': 98996, 'state': None, 'verificationleveldescription': 'Best. Object is extensively researched, well described and information is vetted', 'period': None, 'images': [{'date': '2003-11-06', 'copyright': 'President and Fellows of Harvard College', 'imageid': 34999, 'idsid': 17817754, 'format': 'image/jpeg', 'description': None, 'technique': None, 'renditionnumber': '74400', 'displayorder': 1, 'baseimageurl': 'https://nrs.harvard.edu/urn-3:HUAM:74400_dynmc', 'alttext': None, 'width': 603, 'publiccaption': 'recto', 'iiifbaseuri': 'https://ids.lib.harvard.edu/ids/iiif/17817754', 'height': 1024}, {'date': '2003-11-17', 'copyright': 'President and Fellows of Harvard College', 'imageid': 22463, 'idsid': 17826008, 'format': 'image/jpeg', 'description': None, 'technique': None, 'renditionnumber': '74433', 'displayorder': 2, 'baseimageurl': 'https://nrs.harvard.edu/urn-3:HUAM:74433_dynmc', 'alttext': None, 'width': 1024, 'publiccaption': 'verso', 'iiifbaseuri': 'https://ids.lib.harvard.edu/ids/iiif/17826008', 'height': 585}], 'worktypes': [{'worktypeid': '124', 'worktype': 'drawing'}], 'imagecount': 2, 'totalpageviews': 318, 'accessionyear': 2003, 'standardreferencenumber': None, 'signed': None, 'classification': 'Drawings', 'relatedcount': 0, 'verificationlevel': 4, 'primaryimageurl': 'https://nrs.harvard.edu/urn-3:HUAM:74400_dynmc', 'titlescount': 1, 'peoplecount': 1, 'style': None, 'lastupdate': '2023-11-26T05:09:46-0500', 'commentary': 'From the same sketchbook (Chappuis II) as Fogg drawing 1962.24.', 'periodid': None, 'technique': None, 'edition': None, 'description': 'Sketchbook page', 'medium': 'Graphite on cream wove paper', 'lendingpermissionlevel': 0, 'title': 'Portrait of a Man (Emile Zola?); verso: Study of an Armchair and Sketch of the Head of Louis-Auguste Cézanne', 'accessionmethod': 'Bequest', 'colors': [{'color': '#e1e1c8', 'spectrum': '#e9715f', 'hue': 'Green', 'percent': 0.4483333333333333, 'css3': '#dcdcdc'}, {'color': '#c8c8c8', 'spectrum': '#8c5fa8', 'hue': 'Grey', 'percent': 0.33015151515151514, 'css3': '#c0c0c0'}, {'color': '#afaf96', 'spectrum': '#8e5ea7', 'hue': 'Green', 'percent': 0.10871212121212122, 'css3': '#a9a9a9'}, {'color': '#96967d', 'spectrum': '#8e5ea7', 'hue': 'Green', 'percent': 0.06878787878787879, 'css3': '#808080'}, {'color': '#7d7d64', 'spectrum': '#6cbd45', 'hue': 'Yellow', 'percent': 0.044015151515151514, 'css3': '#808080'}], 'provenance': 'Paul Cézanne fils, Paris.\\r\\nPaul Guillaume, Paris.\\r\\nAdrien Chappuis, Tresserve (Savoie).\\r\\nO. Wertheimer, Paris.\\r\\nKnoedler & Co. Inc., New York.\\r\\nHarold and Mary Gershinowitz, New York, Gift to HUAM, 2002.\\r\\n', 'groupcount': 0, 'dated': '1882-1883', 'department': 'Department of Drawings', 'dateend': 1883, 'people': [{'role': 'Artist', 'birthplace': 'Aix-en-Provence', 'gender': 'male', 'displaydate': '1839 - 1906', 'prefix': None, 'culture': 'French', 'displayname': 'Paul Cézanne', 'alphasort': 'Cézanne, Paul', 'name': 'Paul Cézanne', 'personid': 31681, 'deathplace': 'Aix-en-Provence', 'displayorder': 1}], 'url': 'https://www.harvardartmuseums.org/collections/object/98996', 'dateoffirstpageview': '2009-05-23', 'century': '19th century', 'objectnumber': '2003.40.5', 'labeltext': None, 'datebegin': 1882, 'culture': 'French', 'exhibitioncount': 1, 'imagepermissionlevel': 0, 'mediacount': 0, 'objectid': 98996, 'techniqueid': None, 'dimensions': '21.8 x 12.4 cm (8 9/16 x 4 7/8 in.)', 'seeAlso': [{'id': 'https://iiif.harvardartmuseums.org/manifests/object/98996', 'type': 'IIIF Manifest', 'format': 'application/json', 'profile': 'http://iiif.io/api/presentation/2/context.json'}]}\n",
      "{'copyright': None, 'contextualtextcount': 0, 'creditline': 'Harvard Art Museums/Fogg Museum, The Lois Orswell Collection', 'accesslevel': 1, 'dateoflastpageview': '2023-11-25', 'classificationid': 26, 'division': 'European and American Art', 'markscount': 0, 'publicationcount': 4, 'totaluniquepageviews': 3243, 'contact': 'am_europeanamerican@harvard.edu', 'colorcount': 9, 'rank': 120473, 'id': 213825, 'state': None, 'verificationleveldescription': 'Good. Object is well described and information is vetted', 'period': None, 'images': [{'date': '2001-10-01', 'copyright': 'President and Fellows of Harvard College', 'imageid': 23671, 'idsid': 17803732, 'format': 'image/jpeg', 'description': None, 'technique': None, 'renditionnumber': '70192', 'displayorder': 1, 'baseimageurl': 'https://nrs.harvard.edu/urn-3:HUAM:70192_dynmc', 'alttext': None, 'width': 1910, 'publiccaption': None, 'iiifbaseuri': 'https://ids.lib.harvard.edu/ids/iiif/17803732', 'height': 2550}], 'worktypes': [{'worktypeid': '248', 'worktype': 'painting'}], 'imagecount': 1, 'totalpageviews': 3920, 'accessionyear': 1998, 'standardreferencenumber': None, 'signed': None, 'classification': 'Paintings', 'relatedcount': 0, 'verificationlevel': 3, 'primaryimageurl': 'https://nrs.harvard.edu/urn-3:HUAM:70192_dynmc', 'titlescount': 2, 'peoplecount': 1, 'style': None, 'lastupdate': '2023-11-26T05:11:35-0500', 'commentary': None, 'periodid': None, 'technique': None, 'edition': None, 'description': None, 'medium': 'Oil on canvas', 'lendingpermissionlevel': 0, 'title': 'Study of Trees', 'accessionmethod': 'Bequest', 'colors': [{'color': '#e1c8c8', 'spectrum': '#c15689', 'hue': 'Orange', 'percent': 0.3786309523809524, 'css3': '#d8bfd8'}, {'color': '#c8c8af', 'spectrum': '#b55592', 'hue': 'Green', 'percent': 0.22363095238095237, 'css3': '#c0c0c0'}, {'color': '#4b4b4b', 'spectrum': '#3db657', 'hue': 'Grey', 'percent': 0.1143452380952381, 'css3': '#2f4f4f'}, {'color': '#647d7d', 'spectrum': '#6c6ab0', 'hue': 'Blue', 'percent': 0.07994047619047619, 'css3': '#708090'}, {'color': '#4b6464', 'spectrum': '#5e6db3', 'hue': 'Blue', 'percent': 0.06452380952380952, 'css3': '#696969'}, {'color': '#afaf96', 'spectrum': '#8e5ea7', 'hue': 'Green', 'percent': 0.056428571428571425, 'css3': '#a9a9a9'}, {'color': '#96967d', 'spectrum': '#8e5ea7', 'hue': 'Green', 'percent': 0.049523809523809526, 'css3': '#808080'}, {'color': '#7d96af', 'spectrum': '#7069af', 'hue': 'Blue', 'percent': 0.027797619047619047, 'css3': '#778899'}, {'color': '#c89664', 'spectrum': '#ed7758', 'hue': 'Brown', 'percent': 0.005178571428571428, 'css3': '#bdb76b'}], 'provenance': '[Ambroise Vollard, Paris.] Estate of Ambroise Vollard. [Paul Pétridès, Paris, 1947], sold; to James Lord, Paris, 1947. [Buchholz Gallery, New York, 1947], sold; to Lois Orswell, Pomfret, Connecticut, 1947, bequest; to Harvard Art Museums, 1998\\r\\n', 'groupcount': 1, 'dated': 'c. 1904', 'department': 'Department of Modern & Contemporary Art', 'dateend': 1909, 'people': [{'role': 'Artist', 'birthplace': 'Aix-en-Provence', 'gender': 'male', 'displaydate': '1839 - 1906', 'prefix': None, 'culture': 'French', 'displayname': 'Paul Cézanne', 'alphasort': 'Cézanne, Paul', 'name': 'Paul Cézanne', 'personid': 31681, 'deathplace': 'Aix-en-Provence', 'displayorder': 1}], 'url': 'https://www.harvardartmuseums.org/collections/object/213825', 'dateoffirstpageview': '2009-05-23', 'century': '19th century', 'objectnumber': '1998.305', 'labeltext': 'Cézanne’s fascination with the complexities of human perception and his desire to transcribe the abstract properties of vision established him as the central figure linking nineteenth-century impressionism with early twentieth-century cubism. Study of Trees exemplifies the problem of dynamically depicting depth on the flat space of a canvas, which occupied the artist for most of his career. Energetically applied diagonal brushstrokes slice the space of the picture, producing the suggestion of movement in and out of depth, and dashed lines define the tree trunks on either side of a winding country road. Remarkably, the rough, unpainted areas of the canvas seem as animated as the daubs of paint flickering across the picture’s surface like leaves in shifting sunlight. At the time of its making, Study of Trees was at the vanguard of intellectualized, abstract painting.', 'datebegin': 1899, 'culture': 'French', 'exhibitioncount': 6, 'imagepermissionlevel': 0, 'mediacount': 0, 'objectid': 213825, 'techniqueid': None, 'dimensions': '64.3 × 48.9 cm (25 5/16 × 19 1/4 in.)\\r\\nframed: 82 × 66.6 × 4.8 cm (32 5/16 × 26 1/4 × 1 7/8 in.)', 'seeAlso': [{'id': 'https://iiif.harvardartmuseums.org/manifests/object/213825', 'type': 'IIIF Manifest', 'format': 'application/json', 'profile': 'http://iiif.io/api/presentation/2/context.json'}]}\n",
      "{'copyright': None, 'contextualtextcount': 0, 'creditline': 'Harvard Art Museums/Fogg Museum, Gift of David Rockefeller', 'accesslevel': 1, 'dateoflastpageview': '2023-11-20', 'classificationid': 26, 'division': 'European and American Art', 'markscount': 1, 'publicationcount': 8, 'totaluniquepageviews': 443, 'contact': 'am_europeanamerican@harvard.edu', 'colorcount': 8, 'rank': 93473, 'id': 227822, 'state': None, 'verificationleveldescription': 'Best. Object is extensively researched, well described and information is vetted', 'period': None, 'images': [{'date': '2023-06-09', 'copyright': 'President and Fellows of Harvard College', 'imageid': 540805, 'idsid': 497224419, 'format': 'image/jpeg', 'description': None, 'technique': 'Make:SONY;Model:ILCE-7RM4A;Orientation:1;Software:Adobe Photoshop 24.4 (Macintosh);', 'renditionnumber': '784088', 'displayorder': 1, 'baseimageurl': 'https://nrs.harvard.edu/urn-3:HUAM:784088', 'alttext': None, 'width': 2550, 'publiccaption': None, 'iiifbaseuri': 'https://ids.lib.harvard.edu/ids/iiif/497224419', 'height': 1623}, {'date': '1977-02-18', 'copyright': 'President and Fellows of Harvard College', 'imageid': 6072, 'idsid': 20672517, 'format': 'image/jpeg', 'description': None, 'technique': 'Kodak Super XX', 'renditionnumber': '18317', 'displayorder': 2, 'baseimageurl': 'https://nrs.harvard.edu/urn-3:HUAM:VRS18317_dynmc', 'alttext': None, 'width': 1024, 'publiccaption': None, 'iiifbaseuri': 'https://ids.lib.harvard.edu/ids/iiif/20672517', 'height': 814}, {'date': '1998-02-01', 'copyright': 'President and Fellows of Harvard College', 'imageid': 41520, 'idsid': 20682361, 'format': 'image/jpeg', 'description': 'Rendered with quick, distinct brushstrokes, two recently hunted birds lie placed on their backs, side by side on a crimson tablecloth that fills the background. The larger of the two, possibly a hawk, is seen at an angle, with its head at lower left and its tail at upper right, one talon seen sticking up at upper center-right. The tufted feathers of its belly are light brown with gray spots, and its wings gray. The smaller bird, gray and black with a white strip under its beak, is oriented the same way, cradled on the lower wing of the larger bird.', 'technique': 'Kodak EPY', 'renditionnumber': '49034', 'displayorder': 3, 'baseimageurl': 'https://nrs.harvard.edu/urn-3:HUAM:VRS49034_dynmc', 'alttext': 'Two dead birds lie side by side on a red tablecloth', 'width': 1024, 'publiccaption': None, 'iiifbaseuri': 'https://ids.lib.harvard.edu/ids/iiif/20682361', 'height': 828}], 'worktypes': [{'worktypeid': '248', 'worktype': 'painting'}], 'imagecount': 3, 'totalpageviews': 529, 'accessionyear': 1976, 'standardreferencenumber': None, 'signed': None, 'classification': 'Paintings', 'relatedcount': 0, 'verificationlevel': 4, 'primaryimageurl': 'https://nrs.harvard.edu/urn-3:HUAM:784088', 'titlescount': 2, 'peoplecount': 1, 'style': None, 'lastupdate': '2023-11-26T05:11:52-0500', 'commentary': None, 'periodid': None, 'technique': None, 'edition': None, 'description': None, 'medium': 'Oil transferred to linen mounted on honeycomb panel', 'lendingpermissionlevel': 0, 'title': 'Still Life with Game Birds', 'accessionmethod': 'Gift', 'colors': [{'color': '#643219', 'spectrum': '#59ba4a', 'hue': 'Brown', 'percent': 0.755578947368421, 'css3': '#8b4513'}, {'color': '#321919', 'spectrum': '#3db657', 'hue': 'Brown', 'percent': 0.11136842105263157, 'css3': '#000000'}, {'color': '#644b32', 'spectrum': '#59ba4a', 'hue': 'Brown', 'percent': 0.04189473684210526, 'css3': '#556b2f'}, {'color': '#7d644b', 'spectrum': '#b25593', 'hue': 'Yellow', 'percent': 0.04126315789473684, 'css3': '#696969'}, {'color': '#967d64', 'spectrum': '#b65590', 'hue': 'Brown', 'percent': 0.02280701754385965, 'css3': '#808080'}, {'color': '#af9664', 'spectrum': '#e9715f', 'hue': 'Yellow', 'percent': 0.017964912280701753, 'css3': '#bdb76b'}, {'color': '#c8af7d', 'spectrum': '#e9715f', 'hue': 'Brown', 'percent': 0.006526315789473684, 'css3': '#d2b48c'}, {'color': '#e1c896', 'spectrum': '#ed765a', 'hue': 'Yellow', 'percent': 0.0025964912280701754, 'css3': '#deb887'}], 'provenance': 'Paul Gachet, Auvers, France (c. 1873-1909); to his son Paul Gachet. [Wildenstein & Co., Paris and New York, (c. 1950-1960) donated; to [auction to benefit the Museum of Modern Art, Parke-Bernet, April 27, 1960, lot 24, sold]; to David Rockefeller, New York, NY(1960-1976) gift; to Fogg Art Museum, 1976.\\r\\n\\r\\n\\r\\n\\r\\n\\r\\nNotes \\r\\n1999 Gachet collection exhibition catalogue dates his ownership to c. 1873-1909.\\r\\nAccording to Douglas Cooper, Wildenstein received the painting directly for Gachet fils.\\r\\nSome sources give a provenance of M. Buron, Paris, before Wildenstein.  This is unverified and doubted by M. Potter, 10/4/76.', 'groupcount': 0, 'dated': 'c. 1872-1873', 'department': 'Department of Paintings, Sculpture & Decorative Arts', 'dateend': 1873, 'people': [{'role': 'Artist', 'birthplace': 'Aix-en-Provence', 'gender': 'male', 'displaydate': '1839 - 1906', 'prefix': None, 'culture': 'French', 'displayname': 'Paul Cézanne', 'alphasort': 'Cézanne, Paul', 'name': 'Paul Cézanne', 'personid': 31681, 'deathplace': 'Aix-en-Provence', 'displayorder': 1}], 'url': 'https://www.harvardartmuseums.org/collections/object/227822', 'dateoffirstpageview': '2009-05-14', 'century': '19th century', 'objectnumber': '1976.70', 'labeltext': None, 'datebegin': 1872, 'culture': 'French', 'exhibitioncount': 1, 'imagepermissionlevel': 0, 'mediacount': 0, 'objectid': 227822, 'techniqueid': None, 'dimensions': '25.5 x 39.6 cm (10 1/16 x 15 9/16 in.)\\r\\nframe: 38.7 x 53.3 x 2.5 cm (15 1/4 x 21 x 1 in.)', 'seeAlso': [{'id': 'https://iiif.harvardartmuseums.org/manifests/object/227822', 'type': 'IIIF Manifest', 'format': 'application/json', 'profile': 'http://iiif.io/api/presentation/2/context.json'}]}\n",
      "{'copyright': None, 'contextualtextcount': 0, 'creditline': 'Harvard Art Museums/Fogg Museum, Gift of Mr. and Mrs. Joseph Pulitzer, Jr.', 'accesslevel': 1, 'dateoflastpageview': '2023-10-26', 'classificationid': 26, 'division': 'European and American Art', 'markscount': 0, 'publicationcount': 21, 'totaluniquepageviews': 895, 'contact': 'am_europeanamerican@harvard.edu', 'colorcount': 8, 'rank': 85319, 'id': 228052, 'state': None, 'verificationleveldescription': 'Best. Object is extensively researched, well described and information is vetted', 'period': None, 'images': [{'date': None, 'copyright': 'President and Fellows of Harvard College', 'imageid': 25424, 'idsid': 43183927, 'format': 'image/jpeg', 'description': 'A head and shoulders portrait of a fair skinned man, is rendered with blocky, individual brushstrokes. He is shown facing us and looking to the right, his face made up of small swatches of pinks and tans, with pale green, gray and brown shadows. His neatly trimmed beard and mustache are dark brown, and his eyes almost black. He wears a high collared white shirt and a gray overcoat, shaded with brown and green. The background is a mottled blue-gray with lavender touches.', 'technique': 'Ektachrome Professional', 'renditionnumber': '81232', 'displayorder': 1, 'baseimageurl': 'https://nrs.harvard.edu/urn-3:HUAM:81232_dynmc', 'alttext': 'Portrait of a man with a beard and mustache', 'width': 2105, 'publiccaption': None, 'iiifbaseuri': 'https://ids.lib.harvard.edu/ids/iiif/43183927', 'height': 2550}, {'date': None, 'copyright': 'President and Fellows of Harvard College', 'imageid': 98931, 'idsid': 43162404, 'format': 'image/jpeg', 'description': None, 'technique': None, 'renditionnumber': 'LEG87279', 'displayorder': 2, 'baseimageurl': 'https://nrs.harvard.edu/urn-3:HUAM:LEG87279_dynmc', 'alttext': None, 'width': 817, 'publiccaption': None, 'iiifbaseuri': 'https://ids.lib.harvard.edu/ids/iiif/43162404', 'height': 1024}], 'worktypes': [{'worktypeid': '248', 'worktype': 'painting'}], 'imagecount': 2, 'totalpageviews': 1123, 'accessionyear': 1961, 'standardreferencenumber': None, 'signed': None, 'classification': 'Paintings', 'relatedcount': 1, 'verificationlevel': 4, 'primaryimageurl': 'https://nrs.harvard.edu/urn-3:HUAM:81232_dynmc', 'titlescount': 1, 'peoplecount': 1, 'style': None, 'lastupdate': '2023-11-26T05:11:52-0500', 'commentary': None, 'periodid': None, 'technique': None, 'edition': None, 'description': None, 'medium': 'Oil on canvas', 'lendingpermissionlevel': 0, 'title': 'Jules Peyron', 'accessionmethod': 'Gift', 'colors': [{'color': '#646464', 'spectrum': '#7866ad', 'hue': 'Grey', 'percent': 0.41425474254742545, 'css3': '#696969'}, {'color': '#191919', 'spectrum': '#1eb264', 'hue': 'Grey', 'percent': 0.17772357723577237, 'css3': '#000000'}, {'color': '#323219', 'spectrum': '#3db657', 'hue': 'Brown', 'percent': 0.16265582655826558, 'css3': '#2f4f4f'}, {'color': '#4b4b32', 'spectrum': '#4ab851', 'hue': 'Green', 'percent': 0.14905149051490515, 'css3': '#556b2f'}, {'color': '#c8967d', 'spectrum': '#e66c64', 'hue': 'Grey', 'percent': 0.02997289972899729, 'css3': '#bc8f8f'}, {'color': '#af9664', 'spectrum': '#e9715f', 'hue': 'Yellow', 'percent': 0.02753387533875339, 'css3': '#bdb76b'}, {'color': '#c8af96', 'spectrum': '#e66c64', 'hue': 'Brown', 'percent': 0.023468834688346884, 'css3': '#d2b48c'}, {'color': '#190000', 'spectrum': '#2eb45d', 'hue': 'Black', 'percent': 0.015338753387533875, 'css3': '#000000'}], 'provenance': 'Paul Cézanne. Hans Wendland, Berlin, (until c. 1918-1922). [Ambroise Vollard, Paris], (c. 1918-1922 until 1936) sold; to [Reid & Lefevre, London] (1936-1937), sold; to [Alfred Gold, Berlin and New York] (1937-1948) sold; to [Wildenstein & Company, New York] (1948-1949), sold; to [Otto L. Spaeth, New York]. [Fine Arts Associates, New York] (until 1954) sold; to Mr. and Mrs. Joseph Pulitzer, Jr. (1954-1961) gift; to Fogg Art Museum, 1961.\\r\\n\\r\\n\\r\\n\\r\\n', 'groupcount': 1, 'dated': 'c. 1885-1887', 'department': 'Department of Paintings, Sculpture & Decorative Arts', 'dateend': 1887, 'people': [{'role': 'Artist', 'birthplace': 'Aix-en-Provence', 'gender': 'male', 'displaydate': '1839 - 1906', 'prefix': None, 'culture': 'French', 'displayname': 'Paul Cézanne', 'alphasort': 'Cézanne, Paul', 'name': 'Paul Cézanne', 'personid': 31681, 'deathplace': 'Aix-en-Provence', 'displayorder': 1}], 'url': 'https://www.harvardartmuseums.org/collections/object/228052', 'dateoffirstpageview': '2009-05-16', 'century': '19th century', 'objectnumber': '1961.144', 'labeltext': None, 'datebegin': 1885, 'culture': 'French', 'exhibitioncount': 13, 'imagepermissionlevel': 0, 'mediacount': 0, 'objectid': 228052, 'techniqueid': None, 'dimensions': '46.4 x 38.1 cm (18 1/4 x 15 in.)\\r\\nframed: 69.2 × 62.2 × 8.3 cm (27 1/4 × 24 1/2 × 3 1/4 in.)', 'seeAlso': [{'id': 'https://iiif.harvardartmuseums.org/manifests/object/228052', 'type': 'IIIF Manifest', 'format': 'application/json', 'profile': 'http://iiif.io/api/presentation/2/context.json'}]}\n",
      "{'copyright': None, 'contextualtextcount': 0, 'creditline': 'Harvard Art Museums/Fogg Museum, Gift of Frederick B. Deknatel', 'accesslevel': 1, 'dateoflastpageview': '2023-11-16', 'classificationid': 26, 'division': 'European and American Art', 'markscount': 8, 'publicationcount': 14, 'totaluniquepageviews': 650, 'contact': 'am_europeanamerican@harvard.edu', 'colorcount': 10, 'rank': 86524, 'id': 228410, 'state': None, 'verificationleveldescription': 'Best. Object is extensively researched, well described and information is vetted', 'period': None, 'images': [{'date': '1989-09-01', 'copyright': 'President and Fellows of Harvard College', 'imageid': 2204, 'idsid': 495410935, 'format': 'image/jpeg', 'description': None, 'technique': 'Kodak EPY', 'renditionnumber': '12897', 'displayorder': 1, 'baseimageurl': 'https://nrs.harvard.edu/urn-3:HUAM:VRS12897', 'alttext': None, 'width': 1626, 'publiccaption': None, 'iiifbaseuri': 'https://ids.lib.harvard.edu/ids/iiif/495410935', 'height': 2400}, {'date': '1964-07-15', 'copyright': 'President and Fellows of Harvard College', 'imageid': 120, 'idsid': 20668686, 'format': 'image/jpeg', 'description': None, 'technique': 'Kodak Safety Film', 'renditionnumber': '10496', 'displayorder': 2, 'baseimageurl': 'https://nrs.harvard.edu/urn-3:HUAM:VRS10496_dynmc', 'alttext': None, 'width': 826, 'publiccaption': None, 'iiifbaseuri': 'https://ids.lib.harvard.edu/ids/iiif/20668686', 'height': 1024}], 'worktypes': [{'worktypeid': '248', 'worktype': 'painting'}], 'imagecount': 2, 'totalpageviews': 801, 'accessionyear': 1964, 'standardreferencenumber': None, 'signed': None, 'classification': 'Paintings', 'relatedcount': 1, 'verificationlevel': 4, 'primaryimageurl': 'https://nrs.harvard.edu/urn-3:HUAM:VRS12897', 'titlescount': 3, 'peoplecount': 1, 'style': None, 'lastupdate': '2023-11-26T05:11:53-0500', 'commentary': None, 'periodid': None, 'technique': None, 'edition': None, 'description': None, 'medium': 'Oil on canvas', 'lendingpermissionlevel': 0, 'title': 'Plaster Cupid', 'accessionmethod': 'Gift', 'colors': [{'color': '#c8af96', 'spectrum': '#e66c64', 'hue': 'Brown', 'percent': 0.24883333333333332, 'css3': '#d2b48c'}, {'color': '#32324b', 'spectrum': '#4f6fb6', 'hue': 'Blue', 'percent': 0.12277777777777778, 'css3': '#2f4f4f'}, {'color': '#191919', 'spectrum': '#1eb264', 'hue': 'Grey', 'percent': 0.10355555555555555, 'css3': '#000000'}, {'color': '#000000', 'spectrum': '#1eb264', 'hue': 'Black', 'percent': 0.09844444444444445, 'css3': '#000000'}, {'color': '#644b4b', 'spectrum': '#8362aa', 'hue': 'Brown', 'percent': 0.093, 'css3': '#696969'}, {'color': '#af9696', 'spectrum': '#ae5596', 'hue': 'Brown', 'percent': 0.08955555555555555, 'css3': '#bc8f8f'}, {'color': '#7d647d', 'spectrum': '#8362aa', 'hue': 'Violet', 'percent': 0.06994444444444445, 'css3': '#808080'}, {'color': '#967d7d', 'spectrum': '#955ba5', 'hue': 'Brown', 'percent': 0.06394444444444444, 'css3': '#808080'}, {'color': '#000019', 'spectrum': '#1eb264', 'hue': 'Black', 'percent': 0.024666666666666667, 'css3': '#000000'}, {'color': '#7d4b32', 'spectrum': '#c25687', 'hue': 'Brown', 'percent': 0.015, 'css3': '#8b4513'}], 'provenance': 'Paul Cézanne, sold; to [Ambroise Vollard, Paris, between 1904 and 1907]. [Etienne Bignou, Paris, (? - 1939) sold]; to Barnes Foundation, Merion, PA, (1939-1950) exchanged; with [Knoedler & Co., Inc., New York, 1950-1951)] exchanged; with Frederick B. Deknatel (1951-1964), gift; to Fogg Art Museum, 1964.', 'groupcount': 0, 'dated': 'c. 1894-1895', 'department': 'Department of Paintings, Sculpture & Decorative Arts', 'dateend': 1895, 'people': [{'role': 'Artist', 'birthplace': 'Aix-en-Provence', 'gender': 'male', 'displaydate': '1839 - 1906', 'prefix': None, 'culture': 'French', 'displayname': 'Paul Cézanne', 'alphasort': 'Cézanne, Paul', 'name': 'Paul Cézanne', 'personid': 31681, 'deathplace': 'Aix-en-Provence', 'displayorder': 1}], 'url': 'https://www.harvardartmuseums.org/collections/object/228410', 'dateoffirstpageview': '2009-05-23', 'century': '19th century', 'objectnumber': '1964.72', 'labeltext': None, 'datebegin': 1894, 'culture': 'French', 'exhibitioncount': 11, 'imagepermissionlevel': 0, 'mediacount': 0, 'objectid': 228410, 'techniqueid': None, 'dimensions': '44.5 × 30.8 cm (17 1/2 × 12 1/8 in.)\\r\\nframed: 61.9 × 48.3 × 7.6 cm (24 3/8 × 19 × 3 in.)', 'seeAlso': [{'id': 'https://iiif.harvardartmuseums.org/manifests/object/228410', 'type': 'IIIF Manifest', 'format': 'application/json', 'profile': 'http://iiif.io/api/presentation/2/context.json'}]}\n",
      "{'copyright': None, 'contextualtextcount': 0, 'creditline': 'Harvard Art Museums/Fogg Museum, Bequest of Annie Swan Coburn', 'accesslevel': 1, 'dateoflastpageview': '2023-11-20', 'classificationid': 26, 'division': 'European and American Art', 'markscount': 3, 'publicationcount': 30, 'totaluniquepageviews': 3170, 'contact': 'am_europeanamerican@harvard.edu', 'colorcount': 8, 'rank': 259, 'id': 231249, 'state': None, 'verificationleveldescription': 'Best. Object is extensively researched, well described and information is vetted', 'period': None, 'images': [{'date': '2000-09-01', 'copyright': 'President and Fellows of Harvard College', 'imageid': 7113, 'idsid': 17357777, 'format': 'image/jpeg', 'description': None, 'technique': None, 'renditionnumber': '30483', 'displayorder': 1, 'baseimageurl': 'https://nrs.harvard.edu/urn-3:HUAM:30483_dynmc', 'alttext': None, 'width': 2550, 'publiccaption': None, 'iiifbaseuri': 'https://ids.lib.harvard.edu/ids/iiif/17357777', 'height': 1893}, {'date': '1992-07-01', 'copyright': 'President and Fellows of Harvard College', 'imageid': 13345, 'idsid': 20669835, 'format': 'image/jpeg', 'description': None, 'technique': 'Super XX, Kodak', 'renditionnumber': '13271', 'displayorder': 2, 'baseimageurl': 'https://nrs.harvard.edu/urn-3:HUAM:VRS13271_dynmc', 'alttext': None, 'width': 2550, 'publiccaption': None, 'iiifbaseuri': 'https://ids.lib.harvard.edu/ids/iiif/20669835', 'height': 1861}, {'date': '2004-12-16', 'copyright': 'President and Fellows of Harvard College', 'imageid': 35838, 'idsid': 17916288, 'format': 'image/jpeg', 'description': None, 'technique': None, 'renditionnumber': '76805', 'displayorder': 3, 'baseimageurl': 'https://nrs.harvard.edu/urn-3:HUAM:76805_dynmc', 'alttext': None, 'width': 2094, 'publiccaption': 'Detail of trees', 'iiifbaseuri': 'https://ids.lib.harvard.edu/ids/iiif/17916288', 'height': 2550}], 'worktypes': [{'worktypeid': '248', 'worktype': 'painting'}], 'imagecount': 3, 'totalpageviews': 3862, 'accessionyear': 1934, 'standardreferencenumber': None, 'signed': 'l.l.: P. Cezanne', 'classification': 'Paintings', 'relatedcount': 0, 'verificationlevel': 4, 'primaryimageurl': 'https://nrs.harvard.edu/urn-3:HUAM:30483_dynmc', 'titlescount': 2, 'peoplecount': 1, 'style': None, 'lastupdate': '2023-11-26T05:11:57-0500', 'commentary': None, 'periodid': None, 'technique': None, 'edition': None, 'description': None, 'medium': 'Oil on canvas', 'lendingpermissionlevel': 0, 'title': 'Small Houses in Pontoise', 'accessionmethod': 'Bequest', 'colors': [{'color': '#4b644b', 'spectrum': '#3db657', 'hue': 'Green', 'percent': 0.3682282282282282, 'css3': '#556b2f'}, {'color': '#324b32', 'spectrum': '#2eb45d', 'hue': 'Green', 'percent': 0.35033033033033034, 'css3': '#2f4f4f'}, {'color': '#afafaf', 'spectrum': '#8c5fa8', 'hue': 'Grey', 'percent': 0.11981981981981982, 'css3': '#a9a9a9'}, {'color': '#647d64', 'spectrum': '#4fb94f', 'hue': 'Green', 'percent': 0.10834834834834835, 'css3': '#696969'}, {'color': '#96967d', 'spectrum': '#8e5ea7', 'hue': 'Green', 'percent': 0.051591591591591594, 'css3': '#808080'}, {'color': '#c8af64', 'spectrum': '#b0d136', 'hue': 'Yellow', 'percent': 0.001081081081081081, 'css3': '#bdb76b'}, {'color': '#e1e1c8', 'spectrum': '#e9715f', 'hue': 'Green', 'percent': 0.0005405405405405405, 'css3': '#dcdcdc'}, {'color': '#964b32', 'spectrum': '#d0577c', 'hue': 'Orange', 'percent': 6.006006006006006e-05, 'css3': '#a0522d'}], 'provenance': 'Possibly [Durand-Ruel, Paris and New York], sold; to Victor Choquet, 1874 sold; [through Galerie Georges Petit, Paris, 1926, no. 15] to [Durand-Ruel, Paris (stock no. 5341) and New York (stock no. 4954)], sold; to Annie Swan Coburn, 1926, bequest; to Fogg Art Museum, 1934.', 'groupcount': 2, 'dated': 'c. 1873-c. 1874', 'department': 'Department of Paintings, Sculpture & Decorative Arts', 'dateend': 1874, 'people': [{'role': 'Artist', 'birthplace': 'Aix-en-Provence', 'gender': 'male', 'displaydate': '1839 - 1906', 'prefix': None, 'culture': 'French', 'displayname': 'Paul Cézanne', 'alphasort': 'Cézanne, Paul', 'name': 'Paul Cézanne', 'personid': 31681, 'deathplace': 'Aix-en-Provence', 'displayorder': 1}], 'url': 'https://www.harvardartmuseums.org/collections/object/231249', 'dateoffirstpageview': '2009-05-16', 'century': '19th century', 'objectnumber': '1934.28', 'labeltext': 'Cézanne painted this landscape when he was working alongside Camille Pissarro in the Oise valley, north of Paris. Their work from this period shares many of the same features; the houses at the center of this composition also appear in one of Pissarro’s paintings. As the latter wrote years afterward: “He became influenced by me at Pontoise and I by him. . . . [W]e were always together, but each of us unquestionably retained the only thing that counts, our own ‘sensation.’” In a manner wholly distinct from Pissarro’s, Cézanne explored pictorial strategies in his landscapes. His abbreviated marks created vibrating patchworks of color, anticipating the faceted planes of cubism. The row of thick beige strips in the right middle ground, ostensibly depicting planting rows, are also obviously brushstrokes; rather than being embedded illusionistically into the field, they appear to hover abstractly over it, making evident the materiality of painting.', 'datebegin': 1873, 'culture': 'French', 'exhibitioncount': 31, 'imagepermissionlevel': 0, 'mediacount': 0, 'objectid': 231249, 'techniqueid': None, 'dimensions': '40.7 x 50.9 cm (16 x 20 1/16 in.)\\r\\nframed: 57.3 x 72 x 5.1 cm (22 9/16 x 28 3/8 x 2 in.)', 'seeAlso': [{'id': 'https://iiif.harvardartmuseums.org/manifests/object/231249', 'type': 'IIIF Manifest', 'format': 'application/json', 'profile': 'http://iiif.io/api/presentation/2/context.json'}]}\n",
      "{'copyright': None, 'contextualtextcount': 0, 'creditline': 'Harvard Art Museums/Fogg Museum, Loan from the Collection of Edouard Sandoz', 'accesslevel': 1, 'dateoflastpageview': '2023-04-25', 'classificationid': 23, 'division': 'European and American Art', 'markscount': 1, 'publicationcount': 1, 'totaluniquepageviews': 212, 'contact': 'am_europeanamerican@harvard.edu', 'colorcount': 9, 'rank': 44618, 'id': 234345, 'state': None, 'verificationleveldescription': 'Good. Object is well described and information is vetted', 'period': None, 'images': [{'date': '2008-02-28', 'copyright': 'President and Fellows of Harvard College', 'imageid': 292671, 'idsid': 20435220, 'format': 'image/jpeg', 'description': None, 'technique': None, 'renditionnumber': 'INV178019', 'displayorder': 1, 'baseimageurl': 'https://nrs.harvard.edu/urn-3:HUAM:INV178019_dynmc', 'alttext': None, 'width': 1024, 'publiccaption': None, 'iiifbaseuri': 'https://ids.lib.harvard.edu/ids/iiif/20435220', 'height': 826}], 'worktypes': [{'worktypeid': '285', 'worktype': 'print'}], 'imagecount': 1, 'totalpageviews': 270, 'accessionyear': None, 'standardreferencenumber': 'Venturi. 1156', 'signed': None, 'classification': 'Prints', 'relatedcount': 1, 'verificationlevel': 3, 'primaryimageurl': 'https://nrs.harvard.edu/urn-3:HUAM:INV178019_dynmc', 'titlescount': 1, 'peoplecount': 1, 'style': None, 'lastupdate': '2023-11-26T05:12:00-0500', 'commentary': None, 'periodid': None, 'technique': 'Lithograph', 'edition': None, 'description': 'This is the smaller version of this print', 'medium': 'Lithograph on off white wove paper', 'lendingpermissionlevel': 0, 'title': 'The Small Bathers', 'accessionmethod': None, 'colors': [{'color': '#c8c8af', 'spectrum': '#b55592', 'hue': 'Green', 'percent': 0.5809444444444445, 'css3': '#c0c0c0'}, {'color': '#afaf96', 'spectrum': '#8e5ea7', 'hue': 'Green', 'percent': 0.15827777777777777, 'css3': '#a9a9a9'}, {'color': '#96967d', 'spectrum': '#8e5ea7', 'hue': 'Green', 'percent': 0.1111111111111111, 'css3': '#808080'}, {'color': '#7d7d64', 'spectrum': '#6cbd45', 'hue': 'Yellow', 'percent': 0.065, 'css3': '#808080'}, {'color': '#e1e1c8', 'spectrum': '#e9715f', 'hue': 'Green', 'percent': 0.04, 'css3': '#dcdcdc'}, {'color': '#64644b', 'spectrum': '#59ba4a', 'hue': 'Green', 'percent': 0.030555555555555555, 'css3': '#696969'}, {'color': '#4b4b32', 'spectrum': '#4ab851', 'hue': 'Green', 'percent': 0.010222222222222223, 'css3': '#556b2f'}, {'color': '#323219', 'spectrum': '#3db657', 'hue': 'Brown', 'percent': 0.0035555555555555557, 'css3': '#2f4f4f'}, {'color': '#191919', 'spectrum': '#1eb264', 'hue': 'Grey', 'percent': 0.0003333333333333333, 'css3': '#000000'}], 'provenance': None, 'groupcount': 0, 'dated': '1896-1897', 'department': 'Department of Prints', 'dateend': 1897, 'people': [{'role': 'Artist', 'birthplace': 'Aix-en-Provence', 'gender': 'male', 'displaydate': '1839 - 1906', 'prefix': None, 'culture': 'French', 'displayname': 'Paul Cézanne', 'alphasort': 'Cézanne, Paul', 'name': 'Paul Cézanne', 'personid': 31681, 'deathplace': 'Aix-en-Provence', 'displayorder': 1}], 'url': 'https://www.harvardartmuseums.org/collections/object/234345', 'dateoffirstpageview': '2009-05-16', 'century': '19th century', 'objectnumber': '18.1965', 'labeltext': None, 'datebegin': 1896, 'culture': 'French', 'exhibitioncount': 1, 'imagepermissionlevel': 0, 'mediacount': 0, 'objectid': 234345, 'techniqueid': 136, 'dimensions': 'sheet: 28.7 x 36 cm (11 5/16 x 14 3/16 in.)\\r\\nimage: 22.5 x 29 cm (8 7/8 x 11 7/16 in.)', 'seeAlso': [{'id': 'https://iiif.harvardartmuseums.org/manifests/object/234345', 'type': 'IIIF Manifest', 'format': 'application/json', 'profile': 'http://iiif.io/api/presentation/2/context.json'}]}\n"
     ]
    }
   ],
   "source": [
    "for i in records:\n",
    "    print(i)\n",
    "    \n"
   ]
  },
  {
   "cell_type": "markdown",
   "id": "45906c81",
   "metadata": {},
   "source": [
    "## Results with Provenance"
   ]
  },
  {
   "cell_type": "markdown",
   "id": "55e90754",
   "metadata": {},
   "source": [
    "The code below will provide you with a dataframe (like an excel file with the artist information)"
   ]
  },
  {
   "cell_type": "code",
   "execution_count": 6,
   "id": "8a1412f1",
   "metadata": {},
   "outputs": [],
   "source": [
    "artist = \"Cezanne\""
   ]
  },
  {
   "cell_type": "code",
   "execution_count": 7,
   "id": "95f31571",
   "metadata": {},
   "outputs": [],
   "source": [
    "def results_provenance(url, df=pd.DataFrame()):\n",
    "    r = requests.get(url)\n",
    "    data = r.json()\n",
    "    info = data['info']\n",
    "    records = data['records']\n",
    "    \n",
    "    # Extract relevant data from each record\n",
    "    record_data = []\n",
    "    for record in records:\n",
    "        record_data.append({\n",
    "            'title': record['title'],\n",
    "            'classification': record['classification'],\n",
    "            'century': record['century'],\n",
    "            'provenance': record['provenance']\n",
    "        })\n",
    "    \n",
    "    # Append record data to DataFrame\n",
    "    df = pd.concat([df, pd.DataFrame(record_data)], ignore_index=True)\n",
    "    \n",
    "    # Recursively call pagination function for next page, if it exists\n",
    "    if 'next' in info:\n",
    "        return results_provenance(info['next'], df)\n",
    "    else:\n",
    "        return df"
   ]
  },
  {
   "cell_type": "code",
   "execution_count": 8,
   "id": "7a3d4565",
   "metadata": {},
   "outputs": [],
   "source": [
    "url = f'https://api.harvardartmuseums.org/object?person={artist}&apikey={key}'\n",
    "df = results_provenance(url)"
   ]
  },
  {
   "cell_type": "code",
   "execution_count": 9,
   "id": "a7bb4d27",
   "metadata": {},
   "outputs": [
    {
     "data": {
      "text/plain": [
       "32"
      ]
     },
     "execution_count": 9,
     "metadata": {},
     "output_type": "execute_result"
    }
   ],
   "source": [
    "len(df)"
   ]
  },
  {
   "cell_type": "markdown",
   "id": "e2e3495c",
   "metadata": {},
   "source": [
    "## Results with no Provenance"
   ]
  },
  {
   "cell_type": "code",
   "execution_count": 10,
   "id": "9a349824",
   "metadata": {},
   "outputs": [],
   "source": [
    "def results(url, df=pd.DataFrame()):\n",
    "    r = requests.get(url)\n",
    "    data = r.json()\n",
    "    info = data['info']\n",
    "    records = data['records']\n",
    "    \n",
    "    # Extract relevant data from each record\n",
    "    record_data = []\n",
    "    for record in records:\n",
    "        record_data.append({\n",
    "            'title': record['title'],\n",
    "            'classification': record['classification'],\n",
    "            'century': record['century']\n",
    "        })\n",
    "    \n",
    "    # Append record data to DataFrame\n",
    "    df = pd.concat([df, pd.DataFrame(record_data)], ignore_index=True)\n",
    "    \n",
    "    # Recursively call pagination function for next page, if it exists\n",
    "    if 'next' in info:\n",
    "        return results(info['next'], df)\n",
    "    else:\n",
    "        return df"
   ]
  },
  {
   "cell_type": "code",
   "execution_count": 11,
   "id": "483fc214",
   "metadata": {},
   "outputs": [
    {
     "data": {
      "text/html": [
       "<div>\n",
       "<style scoped>\n",
       "    .dataframe tbody tr th:only-of-type {\n",
       "        vertical-align: middle;\n",
       "    }\n",
       "\n",
       "    .dataframe tbody tr th {\n",
       "        vertical-align: top;\n",
       "    }\n",
       "\n",
       "    .dataframe thead th {\n",
       "        text-align: right;\n",
       "    }\n",
       "</style>\n",
       "<table border=\"1\" class=\"dataframe\">\n",
       "  <thead>\n",
       "    <tr style=\"text-align: right;\">\n",
       "      <th></th>\n",
       "      <th>title</th>\n",
       "      <th>classification</th>\n",
       "      <th>century</th>\n",
       "    </tr>\n",
       "  </thead>\n",
       "  <tbody>\n",
       "    <tr>\n",
       "      <th>0</th>\n",
       "      <td>Tree Trunks</td>\n",
       "      <td>Drawings</td>\n",
       "      <td>19th century</td>\n",
       "    </tr>\n",
       "    <tr>\n",
       "      <th>1</th>\n",
       "      <td>Forest Interior</td>\n",
       "      <td>Drawings</td>\n",
       "      <td>19th century</td>\n",
       "    </tr>\n",
       "    <tr>\n",
       "      <th>2</th>\n",
       "      <td>House Among Trees</td>\n",
       "      <td>Drawings</td>\n",
       "      <td>19th century</td>\n",
       "    </tr>\n",
       "    <tr>\n",
       "      <th>3</th>\n",
       "      <td>Portrait of a Man (Emile Zola?); verso: Study ...</td>\n",
       "      <td>Drawings</td>\n",
       "      <td>19th century</td>\n",
       "    </tr>\n",
       "    <tr>\n",
       "      <th>4</th>\n",
       "      <td>Study of Trees</td>\n",
       "      <td>Paintings</td>\n",
       "      <td>19th century</td>\n",
       "    </tr>\n",
       "    <tr>\n",
       "      <th>5</th>\n",
       "      <td>Still Life with Game Birds</td>\n",
       "      <td>Paintings</td>\n",
       "      <td>19th century</td>\n",
       "    </tr>\n",
       "    <tr>\n",
       "      <th>6</th>\n",
       "      <td>Jules Peyron</td>\n",
       "      <td>Paintings</td>\n",
       "      <td>19th century</td>\n",
       "    </tr>\n",
       "    <tr>\n",
       "      <th>7</th>\n",
       "      <td>Plaster Cupid</td>\n",
       "      <td>Paintings</td>\n",
       "      <td>19th century</td>\n",
       "    </tr>\n",
       "    <tr>\n",
       "      <th>8</th>\n",
       "      <td>Small Houses in Pontoise</td>\n",
       "      <td>Paintings</td>\n",
       "      <td>19th century</td>\n",
       "    </tr>\n",
       "    <tr>\n",
       "      <th>9</th>\n",
       "      <td>The Small Bathers</td>\n",
       "      <td>Prints</td>\n",
       "      <td>19th century</td>\n",
       "    </tr>\n",
       "    <tr>\n",
       "      <th>10</th>\n",
       "      <td>Study of an Ecorché and a Man's Face in Profil...</td>\n",
       "      <td>Drawings</td>\n",
       "      <td>19th century</td>\n",
       "    </tr>\n",
       "    <tr>\n",
       "      <th>11</th>\n",
       "      <td>Sheet of Studies, including a Skull</td>\n",
       "      <td>Drawings</td>\n",
       "      <td>19th century</td>\n",
       "    </tr>\n",
       "    <tr>\n",
       "      <th>12</th>\n",
       "      <td>Rocky Landscape, after Cézanne</td>\n",
       "      <td>Drawings</td>\n",
       "      <td>20th century</td>\n",
       "    </tr>\n",
       "    <tr>\n",
       "      <th>13</th>\n",
       "      <td>Tree Trunks</td>\n",
       "      <td>Drawings</td>\n",
       "      <td>19th century</td>\n",
       "    </tr>\n",
       "    <tr>\n",
       "      <th>14</th>\n",
       "      <td>Forest Interior</td>\n",
       "      <td>Drawings</td>\n",
       "      <td>19th century</td>\n",
       "    </tr>\n",
       "    <tr>\n",
       "      <th>15</th>\n",
       "      <td>House Among Trees</td>\n",
       "      <td>Drawings</td>\n",
       "      <td>19th century</td>\n",
       "    </tr>\n",
       "    <tr>\n",
       "      <th>16</th>\n",
       "      <td>Portrait of a Man (Emile Zola?); verso: Study ...</td>\n",
       "      <td>Drawings</td>\n",
       "      <td>19th century</td>\n",
       "    </tr>\n",
       "    <tr>\n",
       "      <th>17</th>\n",
       "      <td>The Large Bathers</td>\n",
       "      <td>Prints</td>\n",
       "      <td>19th century</td>\n",
       "    </tr>\n",
       "    <tr>\n",
       "      <th>18</th>\n",
       "      <td>Mont Sainte-Victoire (recto and verso)</td>\n",
       "      <td>Drawings</td>\n",
       "      <td>19th century</td>\n",
       "    </tr>\n",
       "    <tr>\n",
       "      <th>19</th>\n",
       "      <td>Head of a Young Boy</td>\n",
       "      <td>Drawings</td>\n",
       "      <td>19th-20th century</td>\n",
       "    </tr>\n",
       "    <tr>\n",
       "      <th>20</th>\n",
       "      <td>Portrait of Ambroise Vollard</td>\n",
       "      <td>Drawings</td>\n",
       "      <td>19th century</td>\n",
       "    </tr>\n",
       "    <tr>\n",
       "      <th>21</th>\n",
       "      <td>Heads of Mme Cézanne and Louis-Auguste Cézanne...</td>\n",
       "      <td>Drawings</td>\n",
       "      <td>19th century</td>\n",
       "    </tr>\n",
       "    <tr>\n",
       "      <th>22</th>\n",
       "      <td>View of Mont Sainte Victoire; verso: Study of ...</td>\n",
       "      <td>Drawings</td>\n",
       "      <td>19th century</td>\n",
       "    </tr>\n",
       "    <tr>\n",
       "      <th>23</th>\n",
       "      <td>Study of a Nude Figure</td>\n",
       "      <td>Drawings</td>\n",
       "      <td>19th century</td>\n",
       "    </tr>\n",
       "    <tr>\n",
       "      <th>24</th>\n",
       "      <td>Old Fisherman</td>\n",
       "      <td>Drawings</td>\n",
       "      <td>19th-20th century</td>\n",
       "    </tr>\n",
       "    <tr>\n",
       "      <th>25</th>\n",
       "      <td>Sketch of Trees; verso: Undergrowth</td>\n",
       "      <td>Drawings</td>\n",
       "      <td>19th century</td>\n",
       "    </tr>\n",
       "    <tr>\n",
       "      <th>26</th>\n",
       "      <td>Still Life with Commode</td>\n",
       "      <td>Paintings</td>\n",
       "      <td>19th century</td>\n",
       "    </tr>\n",
       "    <tr>\n",
       "      <th>27</th>\n",
       "      <td>Large Pine, Study</td>\n",
       "      <td>Drawings</td>\n",
       "      <td>19th century</td>\n",
       "    </tr>\n",
       "    <tr>\n",
       "      <th>28</th>\n",
       "      <td>X-radiograph(s) of \"Nature Morte a la Commode\"</td>\n",
       "      <td>Photographs</td>\n",
       "      <td>None</td>\n",
       "    </tr>\n",
       "    <tr>\n",
       "      <th>29</th>\n",
       "      <td>X-radiograph(s) of \"Still Life With Commode\"</td>\n",
       "      <td>Photographs</td>\n",
       "      <td>None</td>\n",
       "    </tr>\n",
       "    <tr>\n",
       "      <th>30</th>\n",
       "      <td>X-radiograph(s) of \"Jules Peyron\"</td>\n",
       "      <td>Photographs</td>\n",
       "      <td>None</td>\n",
       "    </tr>\n",
       "    <tr>\n",
       "      <th>31</th>\n",
       "      <td>Plaster Cupid</td>\n",
       "      <td>Drawings</td>\n",
       "      <td>19th century</td>\n",
       "    </tr>\n",
       "  </tbody>\n",
       "</table>\n",
       "</div>"
      ],
      "text/plain": [
       "                                                title classification  \\\n",
       "0                                         Tree Trunks       Drawings   \n",
       "1                                     Forest Interior       Drawings   \n",
       "2                                   House Among Trees       Drawings   \n",
       "3   Portrait of a Man (Emile Zola?); verso: Study ...       Drawings   \n",
       "4                                      Study of Trees      Paintings   \n",
       "5                          Still Life with Game Birds      Paintings   \n",
       "6                                        Jules Peyron      Paintings   \n",
       "7                                       Plaster Cupid      Paintings   \n",
       "8                            Small Houses in Pontoise      Paintings   \n",
       "9                                   The Small Bathers         Prints   \n",
       "10  Study of an Ecorché and a Man's Face in Profil...       Drawings   \n",
       "11                Sheet of Studies, including a Skull       Drawings   \n",
       "12                     Rocky Landscape, after Cézanne       Drawings   \n",
       "13                                        Tree Trunks       Drawings   \n",
       "14                                    Forest Interior       Drawings   \n",
       "15                                  House Among Trees       Drawings   \n",
       "16  Portrait of a Man (Emile Zola?); verso: Study ...       Drawings   \n",
       "17                                  The Large Bathers         Prints   \n",
       "18             Mont Sainte-Victoire (recto and verso)       Drawings   \n",
       "19                                Head of a Young Boy       Drawings   \n",
       "20                       Portrait of Ambroise Vollard       Drawings   \n",
       "21  Heads of Mme Cézanne and Louis-Auguste Cézanne...       Drawings   \n",
       "22  View of Mont Sainte Victoire; verso: Study of ...       Drawings   \n",
       "23                             Study of a Nude Figure       Drawings   \n",
       "24                                      Old Fisherman       Drawings   \n",
       "25                Sketch of Trees; verso: Undergrowth       Drawings   \n",
       "26                            Still Life with Commode      Paintings   \n",
       "27                                  Large Pine, Study       Drawings   \n",
       "28     X-radiograph(s) of \"Nature Morte a la Commode\"    Photographs   \n",
       "29       X-radiograph(s) of \"Still Life With Commode\"    Photographs   \n",
       "30                  X-radiograph(s) of \"Jules Peyron\"    Photographs   \n",
       "31                                      Plaster Cupid       Drawings   \n",
       "\n",
       "              century  \n",
       "0        19th century  \n",
       "1        19th century  \n",
       "2        19th century  \n",
       "3        19th century  \n",
       "4        19th century  \n",
       "5        19th century  \n",
       "6        19th century  \n",
       "7        19th century  \n",
       "8        19th century  \n",
       "9        19th century  \n",
       "10       19th century  \n",
       "11       19th century  \n",
       "12       20th century  \n",
       "13       19th century  \n",
       "14       19th century  \n",
       "15       19th century  \n",
       "16       19th century  \n",
       "17       19th century  \n",
       "18       19th century  \n",
       "19  19th-20th century  \n",
       "20       19th century  \n",
       "21       19th century  \n",
       "22       19th century  \n",
       "23       19th century  \n",
       "24  19th-20th century  \n",
       "25       19th century  \n",
       "26       19th century  \n",
       "27       19th century  \n",
       "28               None  \n",
       "29               None  \n",
       "30               None  \n",
       "31       19th century  "
      ]
     },
     "execution_count": 11,
     "metadata": {},
     "output_type": "execute_result"
    }
   ],
   "source": [
    "url = f'https://api.harvardartmuseums.org/object?person={artist}&apikey={key}'\n",
    "results(url)"
   ]
  },
  {
   "cell_type": "markdown",
   "id": "fb4d2d46",
   "metadata": {},
   "source": [
    "## Download Images "
   ]
  },
  {
   "cell_type": "markdown",
   "id": "9be161c6",
   "metadata": {},
   "source": [
    "The function below will download all images for a particular artist, now it could also be that is not only the artist, so we have to do some API research, but that is your job, you need to know what you want to show"
   ]
  },
  {
   "cell_type": "markdown",
   "id": "341b603c",
   "metadata": {},
   "source": [
    "You simply have to modify the artist"
   ]
  },
  {
   "cell_type": "code",
   "execution_count": 21,
   "id": "d268b07a",
   "metadata": {},
   "outputs": [],
   "source": [
    "artist = \"Cezanne\""
   ]
  },
  {
   "cell_type": "code",
   "execution_count": 22,
   "id": "3eefc548",
   "metadata": {},
   "outputs": [],
   "source": [
    "\n",
    "def download_artist_paintings(artist,key):\n",
    "    # Set up API endpoint and parameters\n",
    "    endpoint = \"https://api.harvardartmuseums.org/object\"\n",
    "    params = {\n",
    "        \"apikey\": key,\n",
    "        \"person\": artist,\n",
    "        \"classification\": \"Paintings\",\n",
    "    }\n",
    "\n",
    "    # Send API request and extract relevant data from JSON response\n",
    "    response = requests.get(endpoint, params=params)\n",
    "    if response.status_code == 200:\n",
    "        data = response.json()[\"records\"]\n",
    "    else:\n",
    "        print(f\"Error: {response.status_code}\")\n",
    "        data = []\n",
    "\n",
    "    # Create directory for images if it doesn't exist\n",
    "    directory_name = artist.lower().replace(' ', '_') + '_paintings'\n",
    "    if not os.path.exists(directory_name):\n",
    "        os.makedirs(directory_name)\n",
    "\n",
    "    # Download and save images\n",
    "    for record in data:\n",
    "        object_number = record[\"objectnumber\"]\n",
    "        image_url = record[\"primaryimageurl\"]\n",
    "        if image_url:\n",
    "            response = requests.get(image_url)\n",
    "            if response.status_code == 200:\n",
    "                image_data = response.content\n",
    "                with open(f\"{directory_name}/{object_number}.jpg\", \"wb\") as f:\n",
    "                    f.write(image_data)\n",
    "                    print(f\"Saved image for {object_number}\")\n",
    "            else:\n",
    "                print(f\"Error downloading image for {object_number}\")\n",
    "        else:\n",
    "            print(f\"No image found for {object_number}\")"
   ]
  },
  {
   "cell_type": "code",
   "execution_count": 23,
   "id": "4d429057",
   "metadata": {},
   "outputs": [
    {
     "name": "stdout",
     "output_type": "stream",
     "text": [
      "Saved image for 1998.305\n",
      "Saved image for 1976.70\n",
      "Saved image for 1961.144\n",
      "Saved image for 1964.72\n",
      "Saved image for 1934.28\n",
      "Saved image for 1951.46\n"
     ]
    }
   ],
   "source": [
    "download_artist_paintings(artist,key)"
   ]
  }
 ],
 "metadata": {
  "kernelspec": {
   "display_name": "Python 3 (ipykernel)",
   "language": "python",
   "name": "python3"
  },
  "language_info": {
   "codemirror_mode": {
    "name": "ipython",
    "version": 3
   },
   "file_extension": ".py",
   "mimetype": "text/x-python",
   "name": "python",
   "nbconvert_exporter": "python",
   "pygments_lexer": "ipython3",
   "version": "3.10.8"
  }
 },
 "nbformat": 4,
 "nbformat_minor": 5
}
