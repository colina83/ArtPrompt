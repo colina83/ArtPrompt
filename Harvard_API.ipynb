{
 "cells": [
  {
   "cell_type": "code",
   "execution_count": null,
   "id": "19290f56",
   "metadata": {},
   "outputs": [],
   "source": [
    "import pandas as pd\n",
    "import numpy as np\n",
    "import requests\n",
    "import os\n",
    "import json  \n"
   ]
  },
  {
   "cell_type": "code",
   "execution_count": 12,
   "id": "2deea0e6",
   "metadata": {},
   "outputs": [],
   "source": [
    "from dotenv import load_dotenv, find_dotenv\n",
    "_ = load_dotenv(find_dotenv()) # read local .env file\n"
   ]
  },
  {
   "cell_type": "markdown",
   "id": "8c7d06ca",
   "metadata": {},
   "source": [
    "# Project Description"
   ]
  },
  {
   "cell_type": "markdown",
   "id": "fed4126a",
   "metadata": {},
   "source": [
    "### 1.- Defining Variables"
   ]
  },
  {
   "cell_type": "markdown",
   "id": "144e0384",
   "metadata": {},
   "source": [
    "The cell below contains code that searches for an artist using different resources of the Harvard Art Museum API - "
   ]
  },
  {
   "cell_type": "code",
   "execution_count": 49,
   "id": "f1fd8989",
   "metadata": {},
   "outputs": [],
   "source": [
    "key  = os.environ['HARVARD_API_KEY']\n",
    "artist = \"Cezanne\""
   ]
  },
  {
   "cell_type": "markdown",
   "id": "c219f5d1",
   "metadata": {},
   "source": [
    "The cell below will use the title to find an object with the artist name"
   ]
  },
  {
   "cell_type": "code",
   "execution_count": 50,
   "id": "f4c4004d",
   "metadata": {},
   "outputs": [],
   "source": [
    "r = requests.get(f'https://api.harvardartmuseums.org/object?person={artist}&apikey={key}')\n",
    "data = r.json()"
   ]
  },
  {
   "cell_type": "code",
   "execution_count": 51,
   "id": "7d9a6cd5",
   "metadata": {},
   "outputs": [],
   "source": [
    "# Extract the info and records\n",
    "info = data['info']\n",
    "records = data['records']"
   ]
  },
  {
   "cell_type": "markdown",
   "id": "45906c81",
   "metadata": {},
   "source": [
    "## Results with Provenance"
   ]
  },
  {
   "cell_type": "markdown",
   "id": "55e90754",
   "metadata": {},
   "source": [
    "The code below will provide you with a dataframe (like an excel file with the artist information)"
   ]
  },
  {
   "cell_type": "code",
   "execution_count": 52,
   "id": "8a1412f1",
   "metadata": {},
   "outputs": [],
   "source": [
    "artist = \"Cezanne\""
   ]
  },
  {
   "cell_type": "code",
   "execution_count": 53,
   "id": "95f31571",
   "metadata": {},
   "outputs": [],
   "source": [
    "def results_provenance(url, df=pd.DataFrame()):\n",
    "    r = requests.get(url)\n",
    "    data = r.json()\n",
    "    info = data['info']\n",
    "    records = data['records']\n",
    "    \n",
    "    # Extract relevant data from each record\n",
    "    record_data = []\n",
    "    for record in records:\n",
    "        record_data.append({\n",
    "            'title': record['title'],\n",
    "            'classification': record['classification'],\n",
    "            'century': record['century'],\n",
    "            'provenance': record['provenance']\n",
    "        })\n",
    "    \n",
    "    # Append record data to DataFrame\n",
    "    df = pd.concat([df, pd.DataFrame(record_data)], ignore_index=True)\n",
    "    \n",
    "    # Recursively call pagination function for next page, if it exists\n",
    "    if 'next' in info:\n",
    "        return results_provenance(info['next'], df)\n",
    "    else:\n",
    "        return df"
   ]
  },
  {
   "cell_type": "code",
   "execution_count": 55,
   "id": "7a3d4565",
   "metadata": {},
   "outputs": [],
   "source": [
    "url = f'https://api.harvardartmuseums.org/object?person={artist}&apikey={key}'\n",
    "df = results_provenance(url)"
   ]
  },
  {
   "cell_type": "code",
   "execution_count": 56,
   "id": "a7bb4d27",
   "metadata": {},
   "outputs": [
    {
     "data": {
      "text/plain": [
       "32"
      ]
     },
     "execution_count": 56,
     "metadata": {},
     "output_type": "execute_result"
    }
   ],
   "source": [
    "len(df)"
   ]
  },
  {
   "cell_type": "markdown",
   "id": "e2e3495c",
   "metadata": {},
   "source": [
    "## Results with no Provenance"
   ]
  },
  {
   "cell_type": "code",
   "execution_count": 57,
   "id": "9a349824",
   "metadata": {},
   "outputs": [],
   "source": [
    "def results(url, df=pd.DataFrame()):\n",
    "    r = requests.get(url)\n",
    "    data = r.json()\n",
    "    info = data['info']\n",
    "    records = data['records']\n",
    "    \n",
    "    # Extract relevant data from each record\n",
    "    record_data = []\n",
    "    for record in records:\n",
    "        record_data.append({\n",
    "            'title': record['title'],\n",
    "            'classification': record['classification'],\n",
    "            'century': record['century']\n",
    "        })\n",
    "    \n",
    "    # Append record data to DataFrame\n",
    "    df = pd.concat([df, pd.DataFrame(record_data)], ignore_index=True)\n",
    "    \n",
    "    # Recursively call pagination function for next page, if it exists\n",
    "    if 'next' in info:\n",
    "        return results(info['next'], df)\n",
    "    else:\n",
    "        return df"
   ]
  },
  {
   "cell_type": "code",
   "execution_count": 58,
   "id": "483fc214",
   "metadata": {},
   "outputs": [
    {
     "data": {
      "text/html": [
       "<div>\n",
       "<style scoped>\n",
       "    .dataframe tbody tr th:only-of-type {\n",
       "        vertical-align: middle;\n",
       "    }\n",
       "\n",
       "    .dataframe tbody tr th {\n",
       "        vertical-align: top;\n",
       "    }\n",
       "\n",
       "    .dataframe thead th {\n",
       "        text-align: right;\n",
       "    }\n",
       "</style>\n",
       "<table border=\"1\" class=\"dataframe\">\n",
       "  <thead>\n",
       "    <tr style=\"text-align: right;\">\n",
       "      <th></th>\n",
       "      <th>title</th>\n",
       "      <th>classification</th>\n",
       "      <th>century</th>\n",
       "    </tr>\n",
       "  </thead>\n",
       "  <tbody>\n",
       "    <tr>\n",
       "      <th>0</th>\n",
       "      <td>Rocky Landscape, after Cézanne</td>\n",
       "      <td>Drawings</td>\n",
       "      <td>20th century</td>\n",
       "    </tr>\n",
       "    <tr>\n",
       "      <th>1</th>\n",
       "      <td>Tree Trunks</td>\n",
       "      <td>Drawings</td>\n",
       "      <td>19th century</td>\n",
       "    </tr>\n",
       "    <tr>\n",
       "      <th>2</th>\n",
       "      <td>Forest Interior</td>\n",
       "      <td>Drawings</td>\n",
       "      <td>19th century</td>\n",
       "    </tr>\n",
       "    <tr>\n",
       "      <th>3</th>\n",
       "      <td>House Among Trees</td>\n",
       "      <td>Drawings</td>\n",
       "      <td>19th century</td>\n",
       "    </tr>\n",
       "    <tr>\n",
       "      <th>4</th>\n",
       "      <td>Portrait of a Man (Emile Zola?); verso: Study ...</td>\n",
       "      <td>Drawings</td>\n",
       "      <td>19th century</td>\n",
       "    </tr>\n",
       "    <tr>\n",
       "      <th>5</th>\n",
       "      <td>Study of Trees</td>\n",
       "      <td>Paintings</td>\n",
       "      <td>19th century</td>\n",
       "    </tr>\n",
       "    <tr>\n",
       "      <th>6</th>\n",
       "      <td>Still Life with Game Birds</td>\n",
       "      <td>Paintings</td>\n",
       "      <td>19th century</td>\n",
       "    </tr>\n",
       "    <tr>\n",
       "      <th>7</th>\n",
       "      <td>Jules Peyron</td>\n",
       "      <td>Paintings</td>\n",
       "      <td>19th century</td>\n",
       "    </tr>\n",
       "    <tr>\n",
       "      <th>8</th>\n",
       "      <td>Plaster Cupid</td>\n",
       "      <td>Paintings</td>\n",
       "      <td>19th century</td>\n",
       "    </tr>\n",
       "    <tr>\n",
       "      <th>9</th>\n",
       "      <td>Small Houses in Pontoise</td>\n",
       "      <td>Paintings</td>\n",
       "      <td>19th century</td>\n",
       "    </tr>\n",
       "    <tr>\n",
       "      <th>10</th>\n",
       "      <td>The Small Bathers</td>\n",
       "      <td>Prints</td>\n",
       "      <td>19th century</td>\n",
       "    </tr>\n",
       "    <tr>\n",
       "      <th>11</th>\n",
       "      <td>Female Figure Ornamenting a Clock; verso: Frag...</td>\n",
       "      <td>Drawings</td>\n",
       "      <td>19th century</td>\n",
       "    </tr>\n",
       "    <tr>\n",
       "      <th>12</th>\n",
       "      <td>Study of an Ecorché and a Man's Face in Profil...</td>\n",
       "      <td>Drawings</td>\n",
       "      <td>19th century</td>\n",
       "    </tr>\n",
       "    <tr>\n",
       "      <th>13</th>\n",
       "      <td>Sheet of Studies, including a Skull</td>\n",
       "      <td>Drawings</td>\n",
       "      <td>19th century</td>\n",
       "    </tr>\n",
       "    <tr>\n",
       "      <th>14</th>\n",
       "      <td>The Small Bathers</td>\n",
       "      <td>Prints</td>\n",
       "      <td>19th century</td>\n",
       "    </tr>\n",
       "    <tr>\n",
       "      <th>15</th>\n",
       "      <td>The Artist</td>\n",
       "      <td>Prints</td>\n",
       "      <td>19th-20th century</td>\n",
       "    </tr>\n",
       "    <tr>\n",
       "      <th>16</th>\n",
       "      <td>Armand Guillaumin, Hanged</td>\n",
       "      <td>Prints</td>\n",
       "      <td>19th-20th century</td>\n",
       "    </tr>\n",
       "    <tr>\n",
       "      <th>17</th>\n",
       "      <td>The Large Bathers</td>\n",
       "      <td>Prints</td>\n",
       "      <td>19th century</td>\n",
       "    </tr>\n",
       "    <tr>\n",
       "      <th>18</th>\n",
       "      <td>Mont Sainte-Victoire (recto and verso)</td>\n",
       "      <td>Drawings</td>\n",
       "      <td>19th century</td>\n",
       "    </tr>\n",
       "    <tr>\n",
       "      <th>19</th>\n",
       "      <td>Head of a Young Boy</td>\n",
       "      <td>Drawings</td>\n",
       "      <td>19th-20th century</td>\n",
       "    </tr>\n",
       "    <tr>\n",
       "      <th>20</th>\n",
       "      <td>Portrait of Ambroise Vollard</td>\n",
       "      <td>Drawings</td>\n",
       "      <td>19th century</td>\n",
       "    </tr>\n",
       "    <tr>\n",
       "      <th>21</th>\n",
       "      <td>Heads of Mme Cézanne and Louis-Auguste Cézanne...</td>\n",
       "      <td>Drawings</td>\n",
       "      <td>19th century</td>\n",
       "    </tr>\n",
       "    <tr>\n",
       "      <th>22</th>\n",
       "      <td>View of Mont Sainte Victoire; verso: Study of ...</td>\n",
       "      <td>Drawings</td>\n",
       "      <td>19th century</td>\n",
       "    </tr>\n",
       "    <tr>\n",
       "      <th>23</th>\n",
       "      <td>Study of a Nude Figure</td>\n",
       "      <td>Drawings</td>\n",
       "      <td>19th century</td>\n",
       "    </tr>\n",
       "    <tr>\n",
       "      <th>24</th>\n",
       "      <td>Old Fisherman</td>\n",
       "      <td>Drawings</td>\n",
       "      <td>19th-20th century</td>\n",
       "    </tr>\n",
       "    <tr>\n",
       "      <th>25</th>\n",
       "      <td>Sketch of Trees; verso: Undergrowth</td>\n",
       "      <td>Drawings</td>\n",
       "      <td>19th century</td>\n",
       "    </tr>\n",
       "    <tr>\n",
       "      <th>26</th>\n",
       "      <td>Still Life with Commode</td>\n",
       "      <td>Paintings</td>\n",
       "      <td>19th century</td>\n",
       "    </tr>\n",
       "    <tr>\n",
       "      <th>27</th>\n",
       "      <td>Large Pine, Study</td>\n",
       "      <td>Drawings</td>\n",
       "      <td>19th century</td>\n",
       "    </tr>\n",
       "    <tr>\n",
       "      <th>28</th>\n",
       "      <td>X-radiograph(s) of \"Nature Morte a la Commode\"</td>\n",
       "      <td>Photographs</td>\n",
       "      <td>None</td>\n",
       "    </tr>\n",
       "    <tr>\n",
       "      <th>29</th>\n",
       "      <td>X-radiograph(s) of \"Still Life With Commode\"</td>\n",
       "      <td>Photographs</td>\n",
       "      <td>None</td>\n",
       "    </tr>\n",
       "    <tr>\n",
       "      <th>30</th>\n",
       "      <td>X-radiograph(s) of \"Jules Peyron\"</td>\n",
       "      <td>Photographs</td>\n",
       "      <td>None</td>\n",
       "    </tr>\n",
       "    <tr>\n",
       "      <th>31</th>\n",
       "      <td>Plaster Cupid</td>\n",
       "      <td>Drawings</td>\n",
       "      <td>19th century</td>\n",
       "    </tr>\n",
       "  </tbody>\n",
       "</table>\n",
       "</div>"
      ],
      "text/plain": [
       "                                                title classification  \\\n",
       "0                      Rocky Landscape, after Cézanne       Drawings   \n",
       "1                                         Tree Trunks       Drawings   \n",
       "2                                     Forest Interior       Drawings   \n",
       "3                                   House Among Trees       Drawings   \n",
       "4   Portrait of a Man (Emile Zola?); verso: Study ...       Drawings   \n",
       "5                                      Study of Trees      Paintings   \n",
       "6                          Still Life with Game Birds      Paintings   \n",
       "7                                        Jules Peyron      Paintings   \n",
       "8                                       Plaster Cupid      Paintings   \n",
       "9                            Small Houses in Pontoise      Paintings   \n",
       "10                                  The Small Bathers         Prints   \n",
       "11  Female Figure Ornamenting a Clock; verso: Frag...       Drawings   \n",
       "12  Study of an Ecorché and a Man's Face in Profil...       Drawings   \n",
       "13                Sheet of Studies, including a Skull       Drawings   \n",
       "14                                  The Small Bathers         Prints   \n",
       "15                                         The Artist         Prints   \n",
       "16                          Armand Guillaumin, Hanged         Prints   \n",
       "17                                  The Large Bathers         Prints   \n",
       "18             Mont Sainte-Victoire (recto and verso)       Drawings   \n",
       "19                                Head of a Young Boy       Drawings   \n",
       "20                       Portrait of Ambroise Vollard       Drawings   \n",
       "21  Heads of Mme Cézanne and Louis-Auguste Cézanne...       Drawings   \n",
       "22  View of Mont Sainte Victoire; verso: Study of ...       Drawings   \n",
       "23                             Study of a Nude Figure       Drawings   \n",
       "24                                      Old Fisherman       Drawings   \n",
       "25                Sketch of Trees; verso: Undergrowth       Drawings   \n",
       "26                            Still Life with Commode      Paintings   \n",
       "27                                  Large Pine, Study       Drawings   \n",
       "28     X-radiograph(s) of \"Nature Morte a la Commode\"    Photographs   \n",
       "29       X-radiograph(s) of \"Still Life With Commode\"    Photographs   \n",
       "30                  X-radiograph(s) of \"Jules Peyron\"    Photographs   \n",
       "31                                      Plaster Cupid       Drawings   \n",
       "\n",
       "              century  \n",
       "0        20th century  \n",
       "1        19th century  \n",
       "2        19th century  \n",
       "3        19th century  \n",
       "4        19th century  \n",
       "5        19th century  \n",
       "6        19th century  \n",
       "7        19th century  \n",
       "8        19th century  \n",
       "9        19th century  \n",
       "10       19th century  \n",
       "11       19th century  \n",
       "12       19th century  \n",
       "13       19th century  \n",
       "14       19th century  \n",
       "15  19th-20th century  \n",
       "16  19th-20th century  \n",
       "17       19th century  \n",
       "18       19th century  \n",
       "19  19th-20th century  \n",
       "20       19th century  \n",
       "21       19th century  \n",
       "22       19th century  \n",
       "23       19th century  \n",
       "24  19th-20th century  \n",
       "25       19th century  \n",
       "26       19th century  \n",
       "27       19th century  \n",
       "28               None  \n",
       "29               None  \n",
       "30               None  \n",
       "31       19th century  "
      ]
     },
     "execution_count": 58,
     "metadata": {},
     "output_type": "execute_result"
    }
   ],
   "source": [
    "url = f'https://api.harvardartmuseums.org/object?person={artist}&apikey={key}'\n",
    "results(url)"
   ]
  },
  {
   "cell_type": "markdown",
   "id": "fb4d2d46",
   "metadata": {},
   "source": [
    "## Download Images "
   ]
  },
  {
   "cell_type": "markdown",
   "id": "9be161c6",
   "metadata": {},
   "source": [
    "The function below will download all images for a particular artist, now it could also be that is not only the artist, so we have to do some API research, but that is your job, you need to know what you want to show"
   ]
  },
  {
   "cell_type": "markdown",
   "id": "341b603c",
   "metadata": {},
   "source": [
    "You simply have to modify the artist"
   ]
  },
  {
   "cell_type": "code",
   "execution_count": 21,
   "id": "d268b07a",
   "metadata": {},
   "outputs": [],
   "source": [
    "artist = \"Cezanne\""
   ]
  },
  {
   "cell_type": "code",
   "execution_count": 22,
   "id": "3eefc548",
   "metadata": {},
   "outputs": [],
   "source": [
    "\n",
    "def download_artist_paintings(artist,key):\n",
    "    # Set up API endpoint and parameters\n",
    "    endpoint = \"https://api.harvardartmuseums.org/object\"\n",
    "    params = {\n",
    "        \"apikey\": key,\n",
    "        \"person\": artist,\n",
    "        \"classification\": \"Paintings\",\n",
    "    }\n",
    "\n",
    "    # Send API request and extract relevant data from JSON response\n",
    "    response = requests.get(endpoint, params=params)\n",
    "    if response.status_code == 200:\n",
    "        data = response.json()[\"records\"]\n",
    "    else:\n",
    "        print(f\"Error: {response.status_code}\")\n",
    "        data = []\n",
    "\n",
    "    # Create directory for images if it doesn't exist\n",
    "    directory_name = artist.lower().replace(' ', '_') + '_paintings'\n",
    "    if not os.path.exists(directory_name):\n",
    "        os.makedirs(directory_name)\n",
    "\n",
    "    # Download and save images\n",
    "    for record in data:\n",
    "        object_number = record[\"objectnumber\"]\n",
    "        image_url = record[\"primaryimageurl\"]\n",
    "        if image_url:\n",
    "            response = requests.get(image_url)\n",
    "            if response.status_code == 200:\n",
    "                image_data = response.content\n",
    "                with open(f\"{directory_name}/{object_number}.jpg\", \"wb\") as f:\n",
    "                    f.write(image_data)\n",
    "                    print(f\"Saved image for {object_number}\")\n",
    "            else:\n",
    "                print(f\"Error downloading image for {object_number}\")\n",
    "        else:\n",
    "            print(f\"No image found for {object_number}\")"
   ]
  },
  {
   "cell_type": "code",
   "execution_count": 23,
   "id": "4d429057",
   "metadata": {},
   "outputs": [
    {
     "name": "stdout",
     "output_type": "stream",
     "text": [
      "Saved image for 1998.305\n",
      "Saved image for 1976.70\n",
      "Saved image for 1961.144\n",
      "Saved image for 1964.72\n",
      "Saved image for 1934.28\n",
      "Saved image for 1951.46\n"
     ]
    }
   ],
   "source": [
    "download_artist_paintings(artist,key)"
   ]
  }
 ],
 "metadata": {
  "kernelspec": {
   "display_name": "Python 3 (ipykernel)",
   "language": "python",
   "name": "python3"
  },
  "language_info": {
   "codemirror_mode": {
    "name": "ipython",
    "version": 3
   },
   "file_extension": ".py",
   "mimetype": "text/x-python",
   "name": "python",
   "nbconvert_exporter": "python",
   "pygments_lexer": "ipython3",
   "version": "3.10.8"
  }
 },
 "nbformat": 4,
 "nbformat_minor": 5
}
